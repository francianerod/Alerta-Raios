{
  "nbformat": 4,
  "nbformat_minor": 0,
  "metadata": {
    "colab": {
      "name": "6_Alerta_Raios_Transformação.ipynb",
      "provenance": [],
      "collapsed_sections": [],
      "authorship_tag": "ABX9TyNx3UNf4Z+1t3f4RHCck3OS",
      "include_colab_link": true
    },
    "kernelspec": {
      "name": "python3",
      "display_name": "Python 3"
    },
    "language_info": {
      "name": "python"
    }
  },
  "cells": [
    {
      "cell_type": "markdown",
      "metadata": {
        "id": "view-in-github",
        "colab_type": "text"
      },
      "source": [
        "<a href=\"https://colab.research.google.com/github/francianerod/Projeto-Alerta-Raios/blob/main/6_Alerta_Raios_Transforma%C3%A7%C3%A3o.ipynb\" target=\"_parent\"><img src=\"https://colab.research.google.com/assets/colab-badge.svg\" alt=\"Open In Colab\"/></a>"
      ]
    },
    {
      "cell_type": "markdown",
      "source": [
        "**Código feito por:** Franciane Rodrigues\n",
        "\n",
        "**Empresa:** EPL Informática Ltda\n",
        "\n",
        "**Área/Setor:** Operacional/Pesquisa e Desenvolvimento\n",
        "\n",
        "**Motivo do código:** Transformação de dados"
      ],
      "metadata": {
        "id": "sBnvbxxHt_BT"
      }
    },
    {
      "cell_type": "markdown",
      "source": [
        "## **1) Abertura do drive e bibliotecas**"
      ],
      "metadata": {
        "id": "adNttN8Yz0aJ"
      }
    },
    {
      "cell_type": "code",
      "source": [
        "# Comando de abertura para Google Drive\n",
        "from google.colab import drive\n",
        "drive.mount('/content/drive')"
      ],
      "metadata": {
        "colab": {
          "base_uri": "https://localhost:8080/"
        },
        "id": "tv3onr0g0_KN",
        "outputId": "a8690c73-f121-4179-96cf-2ad597ab047e"
      },
      "execution_count": 1,
      "outputs": [
        {
          "output_type": "stream",
          "name": "stdout",
          "text": [
            "Drive already mounted at /content/drive; to attempt to forcibly remount, call drive.mount(\"/content/drive\", force_remount=True).\n"
          ]
        }
      ]
    },
    {
      "cell_type": "code",
      "source": [
        "# Abertura de bibliotecas\n",
        "import pandas as pd\n",
        "from datetime import datetime"
      ],
      "metadata": {
        "id": "vuz0kv5c1NhA"
      },
      "execution_count": 2,
      "outputs": []
    },
    {
      "cell_type": "markdown",
      "source": [
        "## **2) Abertura e organização de dados principais**"
      ],
      "metadata": {
        "id": "mplNAK8X0KlA"
      }
    },
    {
      "cell_type": "code",
      "source": [
        "# Abertura e organização dos dados\n",
        "df = pd.read_csv('/content/drive/MyDrive/Artigo Moacir/Dados/dados_fevereiro/dados_23_02_2022.csv')\n",
        "\n",
        "# Transformação de timestamp e separando informações de data e hora\n",
        "df['datahora'] = pd.to_datetime(df['timestamp'], unit='s')\n",
        "df['Data'] = df['datahora'].dt.strftime('%Y-%m-%d')\n",
        "df['Hora'] = df['datahora'].dt.strftime('%H:%M:%S')\n",
        "\n",
        "# Apagando colunas \n",
        "del df['timestamp']\n",
        "del df['datahora']\n",
        "\n",
        "# Organizando  colunas\n",
        "df = df[['Data', 'Hora','CampbellUSP01', 'CampbellUSP02', 'CampbellUSP03', 'FieldMilkUSP01']]\n",
        "\n",
        "# Mostrar as duas primeiras observações\n",
        "df.head()"
      ],
      "metadata": {
        "id": "CyYf6YnF0hpF",
        "colab": {
          "base_uri": "https://localhost:8080/",
          "height": 206
        },
        "outputId": "7b2c38af-787d-4aa3-bfa5-1d5a08a5b98e"
      },
      "execution_count": 3,
      "outputs": [
        {
          "output_type": "execute_result",
          "data": {
            "text/plain": [
              "         Data      Hora  CampbellUSP01  CampbellUSP02  CampbellUSP03  \\\n",
              "0  2022-02-23  00:00:00      -21.56342       10.44116      -0.286525   \n",
              "1  2022-02-23  00:00:01      -21.56342       10.44116      -0.859576   \n",
              "2  2022-02-23  00:00:02      -21.27202       10.44116      -1.146103   \n",
              "3  2022-02-23  00:00:03      -21.56342       11.31126      -0.859576   \n",
              "4  2022-02-23  00:00:04      -21.27202       12.18136      -0.286525   \n",
              "\n",
              "   FieldMilkUSP01  \n",
              "0         -2429.0  \n",
              "1         -2429.0  \n",
              "2         -2429.0  \n",
              "3         -2429.0  \n",
              "4         -2429.0  "
            ],
            "text/html": [
              "\n",
              "  <div id=\"df-a2d41a43-364c-4e98-af3b-13670e602f70\">\n",
              "    <div class=\"colab-df-container\">\n",
              "      <div>\n",
              "<style scoped>\n",
              "    .dataframe tbody tr th:only-of-type {\n",
              "        vertical-align: middle;\n",
              "    }\n",
              "\n",
              "    .dataframe tbody tr th {\n",
              "        vertical-align: top;\n",
              "    }\n",
              "\n",
              "    .dataframe thead th {\n",
              "        text-align: right;\n",
              "    }\n",
              "</style>\n",
              "<table border=\"1\" class=\"dataframe\">\n",
              "  <thead>\n",
              "    <tr style=\"text-align: right;\">\n",
              "      <th></th>\n",
              "      <th>Data</th>\n",
              "      <th>Hora</th>\n",
              "      <th>CampbellUSP01</th>\n",
              "      <th>CampbellUSP02</th>\n",
              "      <th>CampbellUSP03</th>\n",
              "      <th>FieldMilkUSP01</th>\n",
              "    </tr>\n",
              "  </thead>\n",
              "  <tbody>\n",
              "    <tr>\n",
              "      <th>0</th>\n",
              "      <td>2022-02-23</td>\n",
              "      <td>00:00:00</td>\n",
              "      <td>-21.56342</td>\n",
              "      <td>10.44116</td>\n",
              "      <td>-0.286525</td>\n",
              "      <td>-2429.0</td>\n",
              "    </tr>\n",
              "    <tr>\n",
              "      <th>1</th>\n",
              "      <td>2022-02-23</td>\n",
              "      <td>00:00:01</td>\n",
              "      <td>-21.56342</td>\n",
              "      <td>10.44116</td>\n",
              "      <td>-0.859576</td>\n",
              "      <td>-2429.0</td>\n",
              "    </tr>\n",
              "    <tr>\n",
              "      <th>2</th>\n",
              "      <td>2022-02-23</td>\n",
              "      <td>00:00:02</td>\n",
              "      <td>-21.27202</td>\n",
              "      <td>10.44116</td>\n",
              "      <td>-1.146103</td>\n",
              "      <td>-2429.0</td>\n",
              "    </tr>\n",
              "    <tr>\n",
              "      <th>3</th>\n",
              "      <td>2022-02-23</td>\n",
              "      <td>00:00:03</td>\n",
              "      <td>-21.56342</td>\n",
              "      <td>11.31126</td>\n",
              "      <td>-0.859576</td>\n",
              "      <td>-2429.0</td>\n",
              "    </tr>\n",
              "    <tr>\n",
              "      <th>4</th>\n",
              "      <td>2022-02-23</td>\n",
              "      <td>00:00:04</td>\n",
              "      <td>-21.27202</td>\n",
              "      <td>12.18136</td>\n",
              "      <td>-0.286525</td>\n",
              "      <td>-2429.0</td>\n",
              "    </tr>\n",
              "  </tbody>\n",
              "</table>\n",
              "</div>\n",
              "      <button class=\"colab-df-convert\" onclick=\"convertToInteractive('df-a2d41a43-364c-4e98-af3b-13670e602f70')\"\n",
              "              title=\"Convert this dataframe to an interactive table.\"\n",
              "              style=\"display:none;\">\n",
              "        \n",
              "  <svg xmlns=\"http://www.w3.org/2000/svg\" height=\"24px\"viewBox=\"0 0 24 24\"\n",
              "       width=\"24px\">\n",
              "    <path d=\"M0 0h24v24H0V0z\" fill=\"none\"/>\n",
              "    <path d=\"M18.56 5.44l.94 2.06.94-2.06 2.06-.94-2.06-.94-.94-2.06-.94 2.06-2.06.94zm-11 1L8.5 8.5l.94-2.06 2.06-.94-2.06-.94L8.5 2.5l-.94 2.06-2.06.94zm10 10l.94 2.06.94-2.06 2.06-.94-2.06-.94-.94-2.06-.94 2.06-2.06.94z\"/><path d=\"M17.41 7.96l-1.37-1.37c-.4-.4-.92-.59-1.43-.59-.52 0-1.04.2-1.43.59L10.3 9.45l-7.72 7.72c-.78.78-.78 2.05 0 2.83L4 21.41c.39.39.9.59 1.41.59.51 0 1.02-.2 1.41-.59l7.78-7.78 2.81-2.81c.8-.78.8-2.07 0-2.86zM5.41 20L4 18.59l7.72-7.72 1.47 1.35L5.41 20z\"/>\n",
              "  </svg>\n",
              "      </button>\n",
              "      \n",
              "  <style>\n",
              "    .colab-df-container {\n",
              "      display:flex;\n",
              "      flex-wrap:wrap;\n",
              "      gap: 12px;\n",
              "    }\n",
              "\n",
              "    .colab-df-convert {\n",
              "      background-color: #E8F0FE;\n",
              "      border: none;\n",
              "      border-radius: 50%;\n",
              "      cursor: pointer;\n",
              "      display: none;\n",
              "      fill: #1967D2;\n",
              "      height: 32px;\n",
              "      padding: 0 0 0 0;\n",
              "      width: 32px;\n",
              "    }\n",
              "\n",
              "    .colab-df-convert:hover {\n",
              "      background-color: #E2EBFA;\n",
              "      box-shadow: 0px 1px 2px rgba(60, 64, 67, 0.3), 0px 1px 3px 1px rgba(60, 64, 67, 0.15);\n",
              "      fill: #174EA6;\n",
              "    }\n",
              "\n",
              "    [theme=dark] .colab-df-convert {\n",
              "      background-color: #3B4455;\n",
              "      fill: #D2E3FC;\n",
              "    }\n",
              "\n",
              "    [theme=dark] .colab-df-convert:hover {\n",
              "      background-color: #434B5C;\n",
              "      box-shadow: 0px 1px 3px 1px rgba(0, 0, 0, 0.15);\n",
              "      filter: drop-shadow(0px 1px 2px rgba(0, 0, 0, 0.3));\n",
              "      fill: #FFFFFF;\n",
              "    }\n",
              "  </style>\n",
              "\n",
              "      <script>\n",
              "        const buttonEl =\n",
              "          document.querySelector('#df-a2d41a43-364c-4e98-af3b-13670e602f70 button.colab-df-convert');\n",
              "        buttonEl.style.display =\n",
              "          google.colab.kernel.accessAllowed ? 'block' : 'none';\n",
              "\n",
              "        async function convertToInteractive(key) {\n",
              "          const element = document.querySelector('#df-a2d41a43-364c-4e98-af3b-13670e602f70');\n",
              "          const dataTable =\n",
              "            await google.colab.kernel.invokeFunction('convertToInteractive',\n",
              "                                                     [key], {});\n",
              "          if (!dataTable) return;\n",
              "\n",
              "          const docLinkHtml = 'Like what you see? Visit the ' +\n",
              "            '<a target=\"_blank\" href=https://colab.research.google.com/notebooks/data_table.ipynb>data table notebook</a>'\n",
              "            + ' to learn more about interactive tables.';\n",
              "          element.innerHTML = '';\n",
              "          dataTable['output_type'] = 'display_data';\n",
              "          await google.colab.output.renderOutput(dataTable, element);\n",
              "          const docLink = document.createElement('div');\n",
              "          docLink.innerHTML = docLinkHtml;\n",
              "          element.appendChild(docLink);\n",
              "        }\n",
              "      </script>\n",
              "    </div>\n",
              "  </div>\n",
              "  "
            ]
          },
          "metadata": {},
          "execution_count": 3
        }
      ]
    },
    {
      "cell_type": "markdown",
      "source": [
        "# **3) Separação e transformação dos dados para ser lidos em software específico.**"
      ],
      "metadata": {
        "id": "9QqQCBZ735pO"
      }
    },
    {
      "cell_type": "code",
      "source": [
        "# Modelo de dados lidos no software\n",
        "# 0002,090000.663,A,2030.1996,S,05436.6761,W,050415,549.5,-151 \n",
        "# ID,hhmmss.fff,A,latitude,S,longitude,W,data,altitude,campo \n",
        "# 0 ,    1     ,2,   3    ,4,    5    ,6,  7 ,   8    ,   9     "
      ],
      "metadata": {
        "id": "gPiTwZarQQpn"
      },
      "execution_count": 4,
      "outputs": []
    },
    {
      "cell_type": "markdown",
      "source": [
        "**3.1 CampbellUSP01** "
      ],
      "metadata": {
        "id": "RUlt6HkHH-Mk"
      }
    },
    {
      "cell_type": "code",
      "source": [
        "# Separação de dados: sensor CampbelUSP01 com ID 0001\n",
        "camp0001 = df[['Data', 'Hora','CampbellUSP01']]\n",
        "\n",
        "# Inserindo valores nas colunas\n",
        "camp0001.insert(0, \"ID\", '0001')\n",
        "camp0001.insert(2, \"A\", 'A')\n",
        "camp0001.insert(3, \"Lat\", '2355.9279')\n",
        "camp0001.insert(4, \"S\", 'S')\n",
        "camp0001.insert(5, \"Lon\", '4673.3493')\n",
        "camp0001.insert(6, \"W\", 'W')\n",
        "camp0001.insert(8, \"Alt\", '772')\n",
        "\n",
        "# Organizando  colunas\n",
        "camp0001 = camp0001[['ID', 'Hora', 'A','Lat','S','Lon','W','Data','Alt', 'CampbellUSP01']]\n",
        "\n",
        "# Transformações necessárias nas informações de hora e data (para facilidar elas foram tratadas como string) \n",
        "camp0001['Hora'] = camp0001['Hora'].str.replace(':','')\n",
        "camp0001['Data'] = camp0001['Data'].str.replace('-','')\n",
        "camp0001['Data'] = camp0001['Data'].str.replace('2022','22')\n",
        "camp0001['Hora'] = camp0001['Hora'].astype(str)+'.663'\n",
        "\n",
        "# Retirando linhas vazias\n",
        "camp0001 = camp0001.dropna()\n",
        "\n",
        "#Aparecer as primeiras linhas do dataset\n",
        "camp0001.head()\n",
        "\n",
        "camp0001.to_csv(r'/content/drive/MyDrive/Artigo Moacir/Dados/dados_exp_fev/0001.txt', \n",
        "                header=None, \n",
        "                index=None, \n",
        "                sep=',', \n",
        "                mode='a')"
      ],
      "metadata": {
        "id": "b2gx1YXq4WyU"
      },
      "execution_count": 5,
      "outputs": []
    },
    {
      "cell_type": "markdown",
      "source": [
        "**3.2 CampbellUSP02**"
      ],
      "metadata": {
        "id": "3efObxJCIHVM"
      }
    },
    {
      "cell_type": "code",
      "source": [
        "# Separação de dados: sensor CampbelUSP02 com ID 0002\n",
        "camp0002 = df[['Data', 'Hora','CampbellUSP02']]\n",
        "\n",
        "# Inserindo valores nas colunas\n",
        "camp0002.insert(0, \"ID\", '0002')\n",
        "camp0002.insert(2, \"A\", 'A')\n",
        "camp0002.insert(3, \"Lat\", '2356.9211')\n",
        "camp0002.insert(4, \"S\", 'S')\n",
        "camp0002.insert(5, \"Lon\", '4674.1043')\n",
        "camp0002.insert(6, \"W\", 'W')\n",
        "camp0002.insert(8, \"Alt\", '772')\n",
        "\n",
        "# Organizando  colunas\n",
        "camp0002 = camp0002[['ID', 'Hora', 'A','Lat','S','Lon','W','Data','Alt', 'CampbellUSP02']]\n",
        "\n",
        "# Transformações necessárias nas informações de hora e data (para facilidar elas foram tratadas como string) \n",
        "camp0002['Hora'] = camp0002['Hora'].str.replace(':','')\n",
        "camp0002['Data'] = camp0002['Data'].str.replace('-','')\n",
        "camp0002['Data'] = camp0002['Data'].str.replace('2022','22')\n",
        "camp0002['Hora'] = camp0002['Hora'].astype(str)+'.663'\n",
        "\n",
        "# Retirando linhas vazias\n",
        "camp0002 = camp0002.dropna()\n",
        "\n",
        "# Exportar arquivo em Pasta\n",
        "camp0002.to_csv(r'/content/drive/MyDrive/Artigo Moacir/Dados/dados_exp_fev/0002.txt', \n",
        "                header=None, \n",
        "                index=None, \n",
        "                sep=',', \n",
        "                mode='a')"
      ],
      "metadata": {
        "id": "DKanYLBblMT_"
      },
      "execution_count": 6,
      "outputs": []
    },
    {
      "cell_type": "markdown",
      "source": [
        "**3.3 CampbellUSP03**"
      ],
      "metadata": {
        "id": "ko86zwY0ILUV"
      }
    },
    {
      "cell_type": "code",
      "source": [
        "# Separação de dados: sensor CampbelUSP03 com ID 0003\n",
        "camp0003 = df[['Data', 'Hora','CampbellUSP03']]\n",
        "\n",
        "# Inserindo valores nas colunas\n",
        "camp0003.insert(0, \"ID\", '0003')\n",
        "camp0003.insert(2, \"A\", 'A')\n",
        "camp0003.insert(3, \"Lat\", '2355.1097')\n",
        "camp0003.insert(4, \"S\", 'S')\n",
        "camp0003.insert(5, \"Lon\", '4673.2021')\n",
        "camp0003.insert(6, \"W\", 'W')\n",
        "camp0003.insert(8, \"Alt\", '772')\n",
        "\n",
        "# Organizando  colunas\n",
        "camp0003 = camp0003[['ID', 'Hora', 'A','Lat','S','Lon','W','Data','Alt', 'CampbellUSP03']]\n",
        "\n",
        "# Transformações necessárias nas informações de hora e data (para facilidar elas foram tratadas como string) \n",
        "camp0003['Hora'] = camp0003['Hora'].str.replace(':','')\n",
        "camp0003['Data'] = camp0003['Data'].str.replace('-','')\n",
        "camp0003['Data'] = camp0003['Data'].str.replace('2022','22')\n",
        "camp0003['Hora'] = camp0003['Hora'].astype(str)+'.663'\n",
        "\n",
        "# Retirando linhas vazias\n",
        "camp0003 = camp0003.dropna()\n",
        "\n",
        "# Exportar arquivo em Pasta\n",
        "camp0003.to_csv(r'/content/drive/MyDrive/Artigo Moacir/Dados/dados_exp_fev/0003.txt', \n",
        "                header=None, \n",
        "                index=None, \n",
        "                sep=',', \n",
        "                mode='a')"
      ],
      "metadata": {
        "id": "A3JODL-7lt9Z"
      },
      "execution_count": 7,
      "outputs": []
    },
    {
      "cell_type": "markdown",
      "source": [
        "**3.4 FieldMilkUSP01**"
      ],
      "metadata": {
        "id": "jP3pQssqIOuW"
      }
    },
    {
      "cell_type": "code",
      "source": [
        "# Separação de dados: sensor FieldMilkUSP01 com ID 0004\n",
        "fmilk0004 = df[['Data', 'Hora','FieldMilkUSP01']]\n",
        "\n",
        "# Inserindo valores nas colunas\n",
        "fmilk0004.insert(0, \"ID\", '0001')\n",
        "fmilk0004.insert(2, \"A\", 'A')\n",
        "fmilk0004.insert(3, \"Lat\", '2356.1618')\n",
        "fmilk0004.insert(4, \"S\", 'S')\n",
        "fmilk0004.insert(5, \"Lon\", '4675.6545')\n",
        "fmilk0004.insert(6, \"W\", 'W')\n",
        "fmilk0004.insert(8, \"Alt\", '772')\n",
        "\n",
        "# Organizando  colunas\n",
        "fmilk0004 = fmilk0004[['ID', 'Hora', 'A','Lat','S','Lon','W','Data','Alt', 'FieldMilkUSP01']]\n",
        "\n",
        "# Transformações necessárias nas informações de hora e data (para facilidar elas foram tratadas como string) \n",
        "fmilk0004['Hora'] = fmilk0004['Hora'].str.replace(':','')\n",
        "fmilk0004['Data'] = fmilk0004['Data'].str.replace('-','')\n",
        "fmilk0004['Data'] = fmilk0004['Data'].str.replace('2022','22')\n",
        "fmilk0004['Hora'] = fmilk0004['Hora'].astype(str)+'.663'\n",
        "\n",
        "# Retirando linhas vazias\n",
        "fmilk0004 = fmilk0004.dropna()\n",
        "\n",
        "#Aparecer as primeiras linhas do dataset\n",
        "fmilk0004.head()\n",
        "\n",
        "fmilk0004.to_csv(r'/content/drive/MyDrive/Artigo Moacir/Dados/dados_exp_fev/0004.txt', \n",
        "                header=None, \n",
        "                index=None, \n",
        "                sep=',', \n",
        "                mode='a')"
      ],
      "metadata": {
        "id": "KtFcj5X4DLST"
      },
      "execution_count": 8,
      "outputs": []
    },
    {
      "cell_type": "markdown",
      "source": [
        "## **5) Verificação da quantidade de observações**"
      ],
      "metadata": {
        "id": "VOONtDYCHqJt"
      }
    },
    {
      "cell_type": "code",
      "source": [
        "# Quantidade de dados\n",
        "camp0001.info()"
      ],
      "metadata": {
        "colab": {
          "base_uri": "https://localhost:8080/"
        },
        "id": "IDCzB1JDdSjy",
        "outputId": "7c6e2bce-46f4-4965-b54a-68ce56139ce6"
      },
      "execution_count": 9,
      "outputs": [
        {
          "output_type": "stream",
          "name": "stdout",
          "text": [
            "<class 'pandas.core.frame.DataFrame'>\n",
            "Int64Index: 85852 entries, 0 to 86399\n",
            "Data columns (total 10 columns):\n",
            " #   Column         Non-Null Count  Dtype  \n",
            "---  ------         --------------  -----  \n",
            " 0   ID             85852 non-null  object \n",
            " 1   Hora           85852 non-null  object \n",
            " 2   A              85852 non-null  object \n",
            " 3   Lat            85852 non-null  object \n",
            " 4   S              85852 non-null  object \n",
            " 5   Lon            85852 non-null  object \n",
            " 6   W              85852 non-null  object \n",
            " 7   Data           85852 non-null  object \n",
            " 8   Alt            85852 non-null  object \n",
            " 9   CampbellUSP01  85852 non-null  float64\n",
            "dtypes: float64(1), object(9)\n",
            "memory usage: 7.2+ MB\n"
          ]
        }
      ]
    },
    {
      "cell_type": "code",
      "source": [
        "# Quantidade de dados\n",
        "camp0002.info()"
      ],
      "metadata": {
        "colab": {
          "base_uri": "https://localhost:8080/"
        },
        "id": "5z8ZZUakmF71",
        "outputId": "425ac464-88be-4ef7-a55a-4a6170b19676"
      },
      "execution_count": 10,
      "outputs": [
        {
          "output_type": "stream",
          "name": "stdout",
          "text": [
            "<class 'pandas.core.frame.DataFrame'>\n",
            "Int64Index: 85384 entries, 0 to 86399\n",
            "Data columns (total 10 columns):\n",
            " #   Column         Non-Null Count  Dtype  \n",
            "---  ------         --------------  -----  \n",
            " 0   ID             85384 non-null  object \n",
            " 1   Hora           85384 non-null  object \n",
            " 2   A              85384 non-null  object \n",
            " 3   Lat            85384 non-null  object \n",
            " 4   S              85384 non-null  object \n",
            " 5   Lon            85384 non-null  object \n",
            " 6   W              85384 non-null  object \n",
            " 7   Data           85384 non-null  object \n",
            " 8   Alt            85384 non-null  object \n",
            " 9   CampbellUSP02  85384 non-null  float64\n",
            "dtypes: float64(1), object(9)\n",
            "memory usage: 7.2+ MB\n"
          ]
        }
      ]
    },
    {
      "cell_type": "code",
      "source": [
        "# Quantidade de dados\n",
        "camp0003.info()"
      ],
      "metadata": {
        "colab": {
          "base_uri": "https://localhost:8080/"
        },
        "id": "wkdTzUpymHmD",
        "outputId": "948e3e88-da9c-4428-d5c5-2fed04005160"
      },
      "execution_count": 11,
      "outputs": [
        {
          "output_type": "stream",
          "name": "stdout",
          "text": [
            "<class 'pandas.core.frame.DataFrame'>\n",
            "Int64Index: 85488 entries, 0 to 86399\n",
            "Data columns (total 10 columns):\n",
            " #   Column         Non-Null Count  Dtype  \n",
            "---  ------         --------------  -----  \n",
            " 0   ID             85488 non-null  object \n",
            " 1   Hora           85488 non-null  object \n",
            " 2   A              85488 non-null  object \n",
            " 3   Lat            85488 non-null  object \n",
            " 4   S              85488 non-null  object \n",
            " 5   Lon            85488 non-null  object \n",
            " 6   W              85488 non-null  object \n",
            " 7   Data           85488 non-null  object \n",
            " 8   Alt            85488 non-null  object \n",
            " 9   CampbellUSP03  85488 non-null  float64\n",
            "dtypes: float64(1), object(9)\n",
            "memory usage: 7.2+ MB\n"
          ]
        }
      ]
    },
    {
      "cell_type": "code",
      "source": [
        "# Quantidade de dados\n",
        "fmilk0004.info()"
      ],
      "metadata": {
        "colab": {
          "base_uri": "https://localhost:8080/"
        },
        "id": "28OIYGW1Dz6j",
        "outputId": "f69ed6c6-6d10-4302-80b6-8cbdc83b796f"
      },
      "execution_count": 12,
      "outputs": [
        {
          "output_type": "stream",
          "name": "stdout",
          "text": [
            "<class 'pandas.core.frame.DataFrame'>\n",
            "Int64Index: 86400 entries, 0 to 86399\n",
            "Data columns (total 10 columns):\n",
            " #   Column          Non-Null Count  Dtype  \n",
            "---  ------          --------------  -----  \n",
            " 0   ID              86400 non-null  object \n",
            " 1   Hora            86400 non-null  object \n",
            " 2   A               86400 non-null  object \n",
            " 3   Lat             86400 non-null  object \n",
            " 4   S               86400 non-null  object \n",
            " 5   Lon             86400 non-null  object \n",
            " 6   W               86400 non-null  object \n",
            " 7   Data            86400 non-null  object \n",
            " 8   Alt             86400 non-null  object \n",
            " 9   FieldMilkUSP01  86400 non-null  float64\n",
            "dtypes: float64(1), object(9)\n",
            "memory usage: 7.3+ MB\n"
          ]
        }
      ]
    },
    {
      "cell_type": "markdown",
      "source": [
        "**BÔNUS - INFORMAÇÕES ADICIONAIS** "
      ],
      "metadata": {
        "id": "71mUskpl31hP"
      }
    },
    {
      "cell_type": "markdown",
      "source": [
        "**Informações dos sensores:**\n",
        "\n",
        "**CampbelUSP01**\n",
        "*   ID: 0001\n",
        "*   Latitude: -23.559279\n",
        "*   Longitude: -46.733493\n",
        "*   Altitude: 772 m\n",
        "\n",
        "**CampbelUSP02**\n",
        "*   ID:0002\n",
        "*   Latitude:-23.569211\n",
        "*   Longitude: -46.741043\n",
        "*   Altitude: 772 m\n",
        "\n",
        "**CampbelUSP03**\n",
        "*   ID: 0003\n",
        "*   Latitude: -23.551097\n",
        "*   Longitude: -46.732021\n",
        "*   Altitude: 772 m\n",
        "\n",
        "**FieldMilkUSP01**\n",
        "*   ID: 0004\n",
        "*   Latitude: -23.561618\n",
        "*   Longitude: -46.756545\n",
        "*   Altitude: 772 m\n",
        "\n",
        "Altitude de São Paulo informada aqui: https://pt.wikipedia.org/wiki/S%C3%A3o_Paulo"
      ],
      "metadata": {
        "id": "s9U4DxQv4enE"
      }
    },
    {
      "cell_type": "code",
      "source": [
        "# Transformar timestamp - teste\n",
        "timestamp = 1636329600\n",
        "dt_object = datetime.fromtimestamp(timestamp)\n",
        "\n",
        "print(\"dt_object =\", dt_object)\n",
        "print(\"type(dt_object) =\", type(dt_object))"
      ],
      "metadata": {
        "id": "3eVmD_Q4VZJb",
        "colab": {
          "base_uri": "https://localhost:8080/"
        },
        "outputId": "d814649b-81e1-410b-bfb2-4bebdd7a8cf3"
      },
      "execution_count": 13,
      "outputs": [
        {
          "output_type": "stream",
          "name": "stdout",
          "text": [
            "dt_object = 2021-11-08 00:00:00\n",
            "type(dt_object) = <class 'datetime.datetime'>\n"
          ]
        }
      ]
    },
    {
      "cell_type": "code",
      "source": [
        "# Retirar : de uma string - Teste\n",
        "string=\"00:00:01\"\n",
        "print(\"String original é:\")\n",
        "print(string)\n",
        "\n",
        "string_trans=string.replace(\":\",\"\")\n",
        "print(\"String transformada é:\")\n",
        "print(string_trans)"
      ],
      "metadata": {
        "colab": {
          "base_uri": "https://localhost:8080/"
        },
        "id": "F-zDnzQ6E5fc",
        "outputId": "f51ae48b-a0b9-4e1b-e457-93b7ddc54137"
      },
      "execution_count": 14,
      "outputs": [
        {
          "output_type": "stream",
          "name": "stdout",
          "text": [
            "String original é:\n",
            "00:00:01\n",
            "String transformada é:\n",
            "000001\n"
          ]
        }
      ]
    }
  ]
}