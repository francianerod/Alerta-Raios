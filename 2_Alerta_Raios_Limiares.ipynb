{
  "nbformat": 4,
  "nbformat_minor": 0,
  "metadata": {
    "colab": {
      "name": "2_Alerta_Raios_Limiares",
      "provenance": [],
      "collapsed_sections": [],
      "authorship_tag": "ABX9TyOpngSxUf24ZFkhI6Xmza2T",
      "include_colab_link": true
    },
    "kernelspec": {
      "name": "python3",
      "display_name": "Python 3"
    },
    "language_info": {
      "name": "python"
    }
  },
  "cells": [
    {
      "cell_type": "markdown",
      "metadata": {
        "id": "view-in-github",
        "colab_type": "text"
      },
      "source": [
        "<a href=\"https://colab.research.google.com/github/francianerod/Alerta-Raios/blob/main/2_Alerta_Raios_Limiares.ipynb\" target=\"_parent\"><img src=\"https://colab.research.google.com/assets/colab-badge.svg\" alt=\"Open In Colab\"/></a>"
      ]
    },
    {
      "cell_type": "markdown",
      "source": [
        "**Código feito por:** Franciane Rodrigues\n",
        "\n",
        "**Empresa:** EPL Informática Ltda\n",
        "\n",
        "**Área/Setor:** Operacional/Pesquisa e Desenvolvimento\n",
        "\n",
        "**Motivo do código:** Caracterização do Campo Elétrico no Vale do Paraíba - SP\n",
        "\n",
        "**Técnica:** Análise Descritiva Univariada - Limiares"
      ],
      "metadata": {
        "id": "dkFq4yVjZ5Kv"
      }
    },
    {
      "cell_type": "markdown",
      "source": [
        "## **1) Pacotes e tratamento dos dados**"
      ],
      "metadata": {
        "id": "GGG5d4KGPQeE"
      }
    },
    {
      "cell_type": "code",
      "source": [
        "# Comando de abertura para Google Drive\n",
        "\n",
        "from google.colab import drive\n",
        "drive.mount('/content/drive')"
      ],
      "metadata": {
        "colab": {
          "base_uri": "https://localhost:8080/"
        },
        "id": "pB4EKL7qZRG9",
        "outputId": "5048cc35-f2df-4f7c-9f1a-3feea16cfd9a"
      },
      "execution_count": 1,
      "outputs": [
        {
          "output_type": "stream",
          "name": "stdout",
          "text": [
            "Drive already mounted at /content/drive; to attempt to forcibly remount, call drive.mount(\"/content/drive\", force_remount=True).\n"
          ]
        }
      ]
    },
    {
      "cell_type": "code",
      "execution_count": 2,
      "metadata": {
        "id": "470YFq8_Xd6l"
      },
      "outputs": [],
      "source": [
        "#Importação de Pacotes\n",
        "import math\n",
        "import numpy as np\n",
        "import pandas as pd\n",
        "import matplotlib.pyplot as plt\n",
        "from matplotlib.ticker import PercentFormatter\n",
        "from datetime import datetime\n",
        "\n",
        "import warnings\n",
        "warnings.filterwarnings(\"ignore\")"
      ]
    },
    {
      "cell_type": "code",
      "source": [
        "#Função leitura de data e hora\n",
        "dateparse = lambda x: datetime.strptime(x, '%Y %m %d %H %M %S')"
      ],
      "metadata": {
        "id": "se_MHXX4a0Qj"
      },
      "execution_count": 3,
      "outputs": []
    },
    {
      "cell_type": "code",
      "source": [
        "# Abertura da base de dados\n",
        "\n",
        "dataset = pd.read_csv('/content/drive/MyDrive/Alerta_Raios_Análise/chuva_dados/2_limiares_completo.txt', \n",
        "                    sep='\\s+', \n",
        "                    header=None,\n",
        "                    parse_dates={ 'horario': [0, 1, 2, 3, 4, 5]},\n",
        "                    date_parser=dateparse,\n",
        "                    names=['ano', 'mes', 'dia', 'hora', 'm', 's', 'E'])\n",
        "#dataset.info()"
      ],
      "metadata": {
        "id": "ckFXe5BMY5zF"
      },
      "execution_count": null,
      "outputs": []
    },
    {
      "cell_type": "code",
      "source": [
        "#Apagando coluna \n",
        "del dataset['horario']"
      ],
      "metadata": {
        "id": "n2XDl4Gpenqi"
      },
      "execution_count": null,
      "outputs": []
    },
    {
      "cell_type": "code",
      "source": [
        "dataset"
      ],
      "metadata": {
        "id": "3FZ1M4BcfQJA"
      },
      "execution_count": null,
      "outputs": []
    },
    {
      "cell_type": "markdown",
      "source": [
        "## **2) Medidas-Resumo com os dados brutos**"
      ],
      "metadata": {
        "id": "4bVHb40exxwz"
      }
    },
    {
      "cell_type": "code",
      "source": [
        "dataset.describe()"
      ],
      "metadata": {
        "id": "siBEBV16udLK"
      },
      "execution_count": null,
      "outputs": []
    },
    {
      "cell_type": "code",
      "source": [
        "# A curtose mede o grau de achatamento de uma distribuição de frequência em relação a uma distribuição teórica (normal).\n",
        "# Em outras palavras, altura do pico da curva\n",
        "\n",
        "# Se k = 0.263 curva é mesocúrtica:  semelhante a curva normal\n",
        "# Se k > 0.263 curva é platicúrtica: mais achatata que a curva normal\n",
        "# Se k < 0.263 curva é leptocúrtica: mais alongada que uma curva normal\n",
        "\n",
        "curtose1 = dataset['E'].kurtosis()\n",
        "print('Curtose: ', curtose1)"
      ],
      "metadata": {
        "id": "cmD2ALaYW_BP"
      },
      "execution_count": null,
      "outputs": []
    },
    {
      "cell_type": "code",
      "source": [
        "# Entradas conforme medida resumo com dados brutos\n",
        "\n",
        "Q1 = -37.2\n",
        "Q3 = 1.22\n",
        "\n",
        "# Amplitude interquartil: AIQ = Q3 - Q1\n",
        "AIQ = Q3 - Q1\n",
        "\n",
        "# Menor valor que não é um outlier\n",
        "min_sem_outlier = Q1 - (1.5*AIQ)\n",
        "\n",
        "# Maior valor que não é um outlier\n",
        "max_sem_outlier = Q3 + (1.5*AIQ)\n",
        "\n",
        "# Variabilidade sem outlier\n",
        "var1 = max_sem_outlier - min_sem_outlier\n",
        "\n",
        "print('Amplitude interquartil:   ', AIQ)\n",
        "print('Valor mínimo sem outlier: ', round(min_sem_outlier,2))\n",
        "print('Valor máximo sem outlier: ', round(max_sem_outlier,2))\n",
        "print('Variabilidade sem outlier:  ', var1)"
      ],
      "metadata": {
        "id": "6FSQXK3JSxwA"
      },
      "execution_count": null,
      "outputs": []
    },
    {
      "cell_type": "code",
      "source": [
        "# Boxplot com dados brutos\n",
        "# Ao colocar showfliers=False você retira todos os outliers que tem na amostra\n",
        "\n",
        "dataset.boxplot(figsize = (15, 4), \n",
        "                vert=False, \n",
        "                showmeans=False, \n",
        "                showfliers=False, \n",
        "                patch_artist=True,\n",
        "                medianprops = dict(color = 'yellow')\n",
        "                )\n",
        "\n",
        "plt.xlabel('Campo Elétrico V/m')\n",
        "plt.title('Periodo de Análise: 22/11/2011 a 27/03/2012')\n",
        "plt.grid(color='black', linestyle='--', linewidth=0.5)\n",
        "plt.tight_layout()\n",
        "plt.show()\n",
        "\n",
        "print('Amplitude interquartil:   ', AIQ)\n",
        "print('Valor mínimo sem outlier: ', round(min_sem_outlier,2))\n",
        "print('Valor máximo sem outlier: ', round(max_sem_outlier,2))\n",
        "print('Variabilidade sem outlier:  ', var1)"
      ],
      "metadata": {
        "id": "s6zKMXkxS6Mn"
      },
      "execution_count": null,
      "outputs": []
    },
    {
      "cell_type": "code",
      "source": [
        "# Fazendo a contagem em ordem crescente, essa forma é interessante para saber o ruído do sensor e moda\n",
        "\n",
        "contagem1 = dataset[\"E\"].value_counts(ascending=False)\n",
        "contagem1 = pd.DataFrame(contagem1)\n",
        "contagem1.head(5) #Dentro do parenteses pode colocar o número que preferir para aparecer no output"
      ],
      "metadata": {
        "id": "Wq-Toxtp_YI7"
      },
      "execution_count": null,
      "outputs": []
    },
    {
      "cell_type": "code",
      "source": [
        "#Utilizando o Normalize = True, retorna a frequência relativa dividindo todos os valores pela soma dos valores.\n",
        "\n",
        "contagem2 = dataset[\"E\"].value_counts(ascending=False, normalize=True)\n",
        "contagem2 = pd.DataFrame(contagem2)\n",
        "contagem2.head(5)"
      ],
      "metadata": {
        "id": "B3KSlIjbGnnT"
      },
      "execution_count": null,
      "outputs": []
    },
    {
      "cell_type": "code",
      "source": [
        "# Preparando para agrupamento de dados - Dados se encontram na medida-resumo\n",
        "# Inicialmente, calcula-se a amplitude pela fórmulá: A = Valor máximo – Valor mínimo da amostra\n",
        "\n",
        "A = 7656.2 - (-6835.7)\n",
        "\n",
        "# Determinação do número de Classes a partir do tamanho da amostra\n",
        "k = math.sqrt(6031115.0)\n",
        "\n",
        "#Calcule o intervalo de classes\n",
        "h = A/k\n",
        "\n",
        "print(round(h))"
      ],
      "metadata": {
        "id": "mzmTngsZCpn7"
      },
      "execution_count": null,
      "outputs": []
    },
    {
      "cell_type": "code",
      "source": [
        "# Agrupando em classes os dados de Campo Elétrico, conforme o tamanho da amostra\n",
        "\n",
        "contagem3 = dataset[\"E\"].value_counts(bins=6)\n",
        "contagem3 = pd.DataFrame(contagem3)\n",
        "contagem3"
      ],
      "metadata": {
        "id": "KZdwpi56NN7U"
      },
      "execution_count": null,
      "outputs": []
    },
    {
      "cell_type": "markdown",
      "source": [
        "## **3) Medidas-resumo com dados absolutos**"
      ],
      "metadata": {
        "id": "lzBDwsIxOIu2"
      }
    },
    {
      "cell_type": "code",
      "source": [
        "# Transformação da base de dados em valores absolutos\n",
        "\n",
        "dataset_abs = dataset['E'].abs()\n",
        "dataset_abs = pd.DataFrame(dataset_abs)\n",
        "dataset_abs"
      ],
      "metadata": {
        "id": "vSu-vfuZKu41"
      },
      "execution_count": null,
      "outputs": []
    },
    {
      "cell_type": "code",
      "source": [
        "dataset_abs.describe()"
      ],
      "metadata": {
        "id": "c_VYkd4pOx4D"
      },
      "execution_count": null,
      "outputs": []
    },
    {
      "cell_type": "code",
      "source": [
        "# Entradas conforme medida resumo com dados absolutos valor mínimo é zero.\n",
        "\n",
        "Q1 = 9.14\n",
        "Q3 = 50.51\n",
        "\n",
        "# Amplitude interquartil: AIQ = Q3 -Q1\n",
        "AIQ = Q3 - Q1\n",
        "\n",
        "# Maior valor que não é um outlier\n",
        "max_sem_outlier = Q3 + (1.5*AIQ)\n",
        "\n",
        "print('Amplitude interquartil:   ', AIQ)\n",
        "print('Valor máximo sem outlier: ', round(max_sem_outlier,2))"
      ],
      "metadata": {
        "id": "y1onZEHYPtSh"
      },
      "execution_count": null,
      "outputs": []
    },
    {
      "cell_type": "code",
      "source": [
        "# A curtose mede o grau de achatamento de uma distribuição\n",
        "# Se k = 0.263 curva é mesocúrtica\n",
        "# Se k > 0.263 curva é platicúrtica\n",
        "# Se k < 0.263 curva é leptocúrtica\n",
        "\n",
        "curtose2 = dataset_abs['E'].kurtosis()\n",
        "print('Curtose: ', curtose2)"
      ],
      "metadata": {
        "id": "vd2JpBDgUwnU"
      },
      "execution_count": null,
      "outputs": []
    },
    {
      "cell_type": "code",
      "source": [
        "# Fazendo a contagem em ordem crescente, essa forma é interessante para saber o ruído do sensor e moda\n",
        "\n",
        "contagem_abs1 = dataset_abs[\"E\"].value_counts(ascending=False)\n",
        "contagem_abs1 = pd.DataFrame(contagem_abs1)\n",
        "contagem_abs1.head() #Dentro do parenteses pode colocar o número que preferir para aparecer no output"
      ],
      "metadata": {
        "id": "bXC6qx3DPlP0"
      },
      "execution_count": null,
      "outputs": []
    },
    {
      "cell_type": "code",
      "source": [
        "# Boxplot com dados absolutos\n",
        "# Ao colocar showfliers=False você retira todos os outliers que tem na amostra\n",
        "\n",
        "dataset_abs.boxplot(figsize = (15, 4), \n",
        "                vert=False, \n",
        "                showmeans=True, \n",
        "                showfliers=False, \n",
        "                patch_artist=True,\n",
        "                medianprops = dict(color = 'yellow'),\n",
        "                )                \n",
        "\n",
        "plt.xlabel('Campo Elétrico V/m')\n",
        "plt.title('Periodo de Análise: 22/11/2011 a 27/03/2012')\n",
        "plt.grid(color='black', linestyle='--', linewidth=0.5)\n",
        "plt.tight_layout()\n",
        "plt.show()\n",
        "\n",
        "print('Amplitude interquartil:   ', AIQ)\n",
        "print('Valor máximo sem outlier: ', round(max_sem_outlier,2))"
      ],
      "metadata": {
        "id": "s6wcKOy8buk_"
      },
      "execution_count": null,
      "outputs": []
    },
    {
      "cell_type": "code",
      "source": [
        "# Agrupando em classes os dados de Campo Elétrico\n",
        "\n",
        "contagem_abs2 = dataset_abs[\"E\"].value_counts(bins=15)\n",
        "contagem_abs2 = pd.DataFrame(contagem_abs2)\n",
        "contagem_abs2"
      ],
      "metadata": {
        "id": "JxePYx4QQF_G"
      },
      "execution_count": null,
      "outputs": []
    },
    {
      "cell_type": "code",
      "source": [
        "# Quantidade de dados que estão em até 510 V/m\n",
        "\n",
        "percentual = (5700000.0/6031115.0)*100\n",
        "round(percentual, 1)"
      ],
      "metadata": {
        "id": "szgSdNDejEUW"
      },
      "execution_count": null,
      "outputs": []
    },
    {
      "cell_type": "markdown",
      "source": [
        "### **5) Filtragem com campos elétricos entre 100 a 500 V/m**"
      ],
      "metadata": {
        "id": "5o96QKV6cSjh"
      }
    },
    {
      "cell_type": "code",
      "source": [
        "dataset_abs"
      ],
      "metadata": {
        "id": "I9in5KIOc7qD"
      },
      "execution_count": null,
      "outputs": []
    },
    {
      "cell_type": "code",
      "source": [
        "# Filtagem 1: Campos elétricos que variam entre 100 a 500 V/m\n",
        "\n",
        "dataset_abs_filtrado = (dataset_abs['E'] >= 100.0) & (dataset_abs['E'] <= 500.0)\n",
        "dataset_abs_filtrado = dataset_abs[dataset_abs_filtrado]\n",
        "dataset_abs_filtrado"
      ],
      "metadata": {
        "id": "gMJs174scU7X"
      },
      "execution_count": null,
      "outputs": []
    },
    {
      "cell_type": "code",
      "source": [
        "dataset_abs_filtrado.describe()"
      ],
      "metadata": {
        "id": "tYxR9KLxeGjL"
      },
      "execution_count": null,
      "outputs": []
    },
    {
      "cell_type": "code",
      "source": [
        "# Boxplot com dados filtrados\n",
        "# Ao colocar showfliers=False você retira todos os outliers que tem na amostra\n",
        "\n",
        "dataset_abs_filtrado.boxplot(figsize = (15, 4), \n",
        "                vert=False, \n",
        "                showmeans=True, \n",
        "                showfliers=False, \n",
        "                patch_artist=True,\n",
        "                medianprops = dict(color = 'yellow'),\n",
        "                )                \n",
        "\n",
        "plt.xlabel('Campo Elétrico V/m')\n",
        "plt.title('Fitragem de Campo Elétrico - Periodo de Análise: 22/12/2011 a 27/03/2012')\n",
        "plt.grid(color='black', linestyle='--', linewidth=0.5)\n",
        "plt.tight_layout()\n",
        "plt.show()"
      ],
      "metadata": {
        "id": "tvbTbwqHeZ66"
      },
      "execution_count": null,
      "outputs": []
    },
    {
      "cell_type": "code",
      "source": [
        "# Agrupando em classes os dados de Campo Elétrico\n",
        "\n",
        "contagem_abs_filtro = dataset_abs_filtrado[\"E\"].value_counts(bins=8)\n",
        "contagem_abs_filtro = pd.DataFrame(contagem_abs_filtro)\n",
        "contagem_abs_filtro"
      ],
      "metadata": {
        "id": "S4QIBtI1fIXP"
      },
      "execution_count": null,
      "outputs": []
    },
    {
      "cell_type": "code",
      "source": [
        "contagem_abs_filtro['Freq_rel'] = round(((contagem_abs_filtro['E']/441999.0)*100),1)\n",
        "contagem_abs_filtro"
      ],
      "metadata": {
        "id": "eBaSELNeHkC6"
      },
      "execution_count": null,
      "outputs": []
    },
    {
      "cell_type": "code",
      "source": [
        "freq_rel_acum = contagem_abs_filtro.sort_values(by='E',ascending=False)\n",
        "freq_rel_acum[\"Freq_rel_acum\"] = freq_rel_acum[\"E\"].cumsum()/freq_rel_acum[\"E\"].sum()*100\n",
        "freq_rel_acum"
      ],
      "metadata": {
        "id": "lX0BGp4vDWHr"
      },
      "execution_count": null,
      "outputs": []
    }
  ]
}